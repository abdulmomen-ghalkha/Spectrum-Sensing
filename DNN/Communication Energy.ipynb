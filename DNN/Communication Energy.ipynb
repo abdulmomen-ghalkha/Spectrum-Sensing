{
 "cells": [
  {
   "cell_type": "code",
   "execution_count": 21,
   "id": "f82713ed-214f-4d04-a2dc-39da6cd7e499",
   "metadata": {},
   "outputs": [
    {
     "name": "stdout",
     "output_type": "stream",
     "text": [
      "Average Bit Rate: 6.85 bps\n"
     ]
    }
   ],
   "source": [
    "import numpy as np\n",
    "\n",
    "# Parameters\n",
    "num_users = 10                 # Number of users\n",
    "area_size = 10000                # 100 x 100 m^2 area\n",
    "Pt = 1e-3                    # Transmission power (100 mW)\n",
    "B = 2e6                        # Bandwidth (2 MHz)\n",
    "N0 = 1e-10                      # Noise spectral density (10^-9 W/Hz)\n",
    "model_size_bits = 32 * 4     # Model size: 32-bit representation of 1M elements\n",
    "\n",
    "# Fixed server position (e.g., at the center of the area)\n",
    "server_x, server_y = area_size / 2, area_size / 2\n",
    "\n",
    "# Monte Carlo simulation to calculate average bit rate\n",
    "num_iterations = 10000          # Number of Monte Carlo iterations\n",
    "bit_rates = []                 # To store bit rates for each iteration\n",
    "\n",
    "for _ in range(num_iterations):\n",
    "    # Randomly distribute users in 100x100 area\n",
    "    user_x_coords = np.random.uniform(0, area_size, num_users)\n",
    "    user_y_coords = np.random.uniform(0, area_size, num_users)\n",
    "    \n",
    "    # Calculate distances to the server\n",
    "    distances = np.sqrt((user_x_coords - server_x)**2 + (user_y_coords - server_y)**2)\n",
    "    distances = np.clip(distances, 1, None)  # Avoid zero distance; minimum distance = 1 m\n",
    "    \n",
    "    # Calculate achievable bit rates for all users\n",
    "    rates = B * np.log2(1 + (Pt / (distances**2 * B * N0)))\n",
    "    \n",
    "    # Compute average bit rate across all users in this iteration\n",
    "    avg_rate = np.mean(rates)\n",
    "    bit_rates.append(avg_rate)\n",
    "\n",
    "# Calculate the final average bit rate over all iterations\n",
    "avg_bit_rate = np.mean(bit_rates)\n",
    "print(f\"Average Bit Rate: {avg_bit_rate:.2f} bps\")"
   ]
  },
  {
   "cell_type": "code",
   "execution_count": 23,
   "id": "3a920502-092e-4dd5-ba23-092e4f635c24",
   "metadata": {},
   "outputs": [
    {
     "name": "stdout",
     "output_type": "stream",
     "text": [
      "Energy Required to Transmit the Model: 0.0187 Joules per round\n"
     ]
    }
   ],
   "source": [
    "# Calculate energy required to transmit the model to the server\n",
    "transmission_time = model_size_bits / avg_bit_rate  # Time to transmit the model\n",
    "energy_per_round = Pt * transmission_time  # Energy consumption\n",
    "\n",
    "print(f\"Energy Required to Transmit the Model: {energy_per_round:.4f} Joules per round\")"
   ]
  },
  {
   "cell_type": "code",
   "execution_count": null,
   "id": "fec92b1e-0202-4998-9b6e-09fc49fbdae2",
   "metadata": {},
   "outputs": [],
   "source": [
    "target_acc = 65.0\n",
    "\n",
    "target_acc_rounds_qunatized = sum([i < target_acc for i in avg_test_accs_q])\n",
    "target_acc_rounds = sum([i < target_acc for i in avg_test_accs])"
   ]
  },
  {
   "cell_type": "code",
   "execution_count": null,
   "id": "dd4064a4-a0f9-40a7-af97-effe32cc1532",
   "metadata": {},
   "outputs": [],
   "source": [
    "# Energy for the quantized model to achieve 65 Accuracy Accuracy\n",
    "total_energy_quantized = target_acc_rounds_qunatized * energy_per_round / 4\n",
    "\n",
    "# Energy for normal model to achieve 65 Accuracy\n",
    "total_energy = target_acc_rounds * energy_per_round"
   ]
  },
  {
   "cell_type": "code",
   "execution_count": null,
   "id": "c3807bc1-0c7d-4192-82d7-c2ae75a08636",
   "metadata": {},
   "outputs": [],
   "source": [
    "print(f\"Total energy for quantized model to achieve {target_acc} %: {total_energy_quantized:.2f} Joules\")\n",
    "print(f\"Total energy for full precision model to achieve {target_acc} %: {total_energy:.2f} Joules\")\n",
    "\n",
    "energy_savings = (total_energy - total_energy_quantized) / total_energy\n",
    "print(f\"Energy savings: {energy_savings * 100:.2f} %\")"
   ]
  }
 ],
 "metadata": {
  "kernelspec": {
   "display_name": "Python 3 (ipykernel)",
   "language": "python",
   "name": "python3"
  },
  "language_info": {
   "codemirror_mode": {
    "name": "ipython",
    "version": 3
   },
   "file_extension": ".py",
   "mimetype": "text/x-python",
   "name": "python",
   "nbconvert_exporter": "python",
   "pygments_lexer": "ipython3",
   "version": "3.9.20"
  }
 },
 "nbformat": 4,
 "nbformat_minor": 5
}
