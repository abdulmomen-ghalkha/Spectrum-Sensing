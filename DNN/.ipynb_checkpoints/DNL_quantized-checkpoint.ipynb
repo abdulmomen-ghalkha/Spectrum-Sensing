{
 "cells": [
  {
   "cell_type": "code",
   "execution_count": 1,
   "metadata": {
    "_cell_guid": "b1076dfc-b9ad-4769-8c92-a6c4dae69d19",
    "_uuid": "8f2839f25d086af736a60e9eeb907d3b93b6e0e5",
    "executionInfo": {
     "elapsed": 245,
     "status": "ok",
     "timestamp": 1654764826706,
     "user": {
      "displayName": "Abdulmomen Gholka",
      "userId": "04436549372656956778"
     },
     "user_tz": -180
    },
    "id": "VYzJgl_mTuOo"
   },
   "outputs": [],
   "source": [
    "import numpy as np # linear algebra\n",
    "import pandas as pd # data processing, CSV file I/O (e.g. pd.read_csv)\n",
    "import tensorflow as tf\n",
    "import os\n",
    "\n",
    "import scipy\n",
    "import networkx as nx\n",
    "\n",
    "from sklearn.linear_model import LogisticRegression\n",
    "from sklearn.metrics import log_loss\n",
    "from numpy import linalg as LA"
   ]
  },
  {
   "cell_type": "code",
   "execution_count": 2,
   "metadata": {},
   "outputs": [],
   "source": [
    "seed = 42\n",
    "no_users = 10\n",
    "lambda_logistic = 1e-3"
   ]
  },
  {
   "cell_type": "code",
   "execution_count": 54,
   "metadata": {},
   "outputs": [],
   "source": [
    "def quantize_vector(X, L, x_min=None, x_max=None):\n",
    "    # If min/max are not given, compute them from the data\n",
    "    if x_min is None:\n",
    "        x_min = np.min(X)\n",
    "    if x_max is None:\n",
    "        x_max = np.max(X)\n",
    "\n",
    "    # Compute step size\n",
    "    delta = (x_max - x_min) / (L - 1)\n",
    "\n",
    "    # Compute quantized indices for each element in X\n",
    "    Q = np.round((X - x_min) / delta)\n",
    "\n",
    "    # Clip indices to stay within valid range\n",
    "    Q = np.clip(Q, 0, L - 1).astype(int)\n",
    "\n",
    "    # Get quantized values\n",
    "    X_q = x_min + Q * delta\n",
    "\n",
    "    return X_q, Q, delta, x_min  # Return values, indices, step size, and min value for dequantization\n",
    "\n",
    "def dequantize_vector(Q, delta, x_min):\n",
    "    \"\"\"\n",
    "    Convert quantized indices back to floating-point values.\n",
    "    \"\"\"\n",
    "    return x_min + Q * delta"
   ]
  },
  {
   "cell_type": "code",
   "execution_count": 55,
   "metadata": {},
   "outputs": [],
   "source": [
    "def random_split(X, y, n, seed):\n",
    "    \"\"\"Equally split data between n agents\"\"\"\n",
    "    rng = np.random.default_rng(seed)\n",
    "    perm = rng.permutation(y.size)\n",
    "    X_split = np.array_split(X[perm], n)  #np.stack to keep as a np array\n",
    "    y_split = np.array_split(y[perm], n)\n",
    "    return X_split, y_split"
   ]
  },
  {
   "cell_type": "code",
   "execution_count": 56,
   "metadata": {},
   "outputs": [],
   "source": [
    "def loss(w, A, b, l2):\n",
    "    z = b * np.dot(A, w)\n",
    "    tmp = np.minimum(z, 0)\n",
    "    loss = np.log((np.exp(tmp) + np.exp(tmp - z)) / np.exp(tmp))\n",
    "    loss_sum = np.sum(loss) / len(b)\n",
    "    reg = (np.linalg.norm(w) ** 2) * l2 / 2\n",
    "    return loss_sum + reg"
   ]
  },
  {
   "cell_type": "code",
   "execution_count": 57,
   "metadata": {},
   "outputs": [],
   "source": [
    "def gradient(w, A, b, l2):\n",
    "    m = A.shape[0]\n",
    "    bAw = b * (A @ w)\n",
    "    temp = 1. / (1. + np.exp(bAw))\n",
    "    res = -(A.T @ (b * temp))/m + l2 * w\n",
    "    return res"
   ]
  },
  {
   "cell_type": "code",
   "execution_count": 58,
   "metadata": {},
   "outputs": [],
   "source": [
    "def hessian(w, A, b, l2):\n",
    "    bAw = b * (A @ w)\n",
    "    activation = scipy.special.expit(bAw)\n",
    "    weights = activation * (1-activation)\n",
    "    A_weighted = np.multiply(A.T, weights)\n",
    "    return A_weighted@A/A.shape[0] + l2*np.eye(A.shape[1])"
   ]
  },
  {
   "cell_type": "code",
   "execution_count": 59,
   "metadata": {},
   "outputs": [],
   "source": [
    "def degrees(A):\n",
    "    \"\"\"Return the degrees of each node of a graph from its adjacency matrix\"\"\"\n",
    "    return np.sum(A, axis=0).reshape(A.shape[0], 1)"
   ]
  },
  {
   "cell_type": "code",
   "execution_count": 60,
   "metadata": {},
   "outputs": [],
   "source": [
    "def generate_graph(n, seed):\n",
    "    \"\"\"Generate a random connected graph\"\"\"\n",
    "    while True:\n",
    "        g = nx.generators.random_graphs.binomial_graph(n, 0.4, seed = seed) \n",
    "        if nx.algorithms.components.is_connected(g):\n",
    "            return g"
   ]
  },
  {
   "cell_type": "code",
   "execution_count": 61,
   "metadata": {
    "colab": {
     "base_uri": "https://localhost:8080/",
     "height": 355
    },
    "executionInfo": {
     "elapsed": 469,
     "status": "ok",
     "timestamp": 1654764827400,
     "user": {
      "displayName": "Abdulmomen Gholka",
      "userId": "04436549372656956778"
     },
     "user_tz": -180
    },
    "id": "WKBlmnurkFhZ",
    "outputId": "0d99ecbb-c147-46e7-e79d-a969f15e9e87"
   },
   "outputs": [
    {
     "name": "stdout",
     "output_type": "stream",
     "text": [
      "20\n",
      "10\n"
     ]
    }
   ],
   "source": [
    "G = generate_graph(no_users, seed)\n",
    "adjacency_matrix = nx.linalg.graphmatrix.adjacency_matrix(G)\n",
    "print(G.number_of_edges())\n",
    "print(G.number_of_nodes())\n",
    "#nx.draw(G, with_labels=True, font_weight='bold')"
   ]
  },
  {
   "cell_type": "code",
   "execution_count": 62,
   "metadata": {},
   "outputs": [],
   "source": [
    "theta_opt = np.load('x_opt.npy')"
   ]
  },
  {
   "cell_type": "code",
   "execution_count": 213,
   "metadata": {
    "executionInfo": {
     "elapsed": 8,
     "status": "ok",
     "timestamp": 1654764829365,
     "user": {
      "displayName": "Abdulmomen Gholka",
      "userId": "04436549372656956778"
     },
     "user_tz": -180
    },
    "id": "0poGZyj0TuOx"
   },
   "outputs": [],
   "source": [
    "X = np.load('X.npy')\n",
    "y = np.load('y.npy').ravel()\n",
    "\n",
    "num_feature = X.shape[1] #+ 1 #+1 for bias"
   ]
  },
  {
   "cell_type": "code",
   "execution_count": 214,
   "metadata": {},
   "outputs": [
    {
     "data": {
      "text/plain": [
       "3"
      ]
     },
     "execution_count": 214,
     "metadata": {},
     "output_type": "execute_result"
    }
   ],
   "source": [
    "num_feature"
   ]
  },
  {
   "cell_type": "code",
   "execution_count": 215,
   "metadata": {},
   "outputs": [],
   "source": [
    "X, y = random_split(X, y, no_users, seed)\n",
    "\n",
    "theta = [np.zeros(num_feature) for _ in range(no_users)] # initial model\n",
    "\n",
    "d_new = [np.zeros(num_feature) for _ in range(no_users)] # direction\n",
    "d_old = [np.zeros(num_feature) for _ in range(no_users)] # old direction\n",
    "\n",
    "lamd = [np.zeros(num_feature) for _ in range(no_users)] # dual variables\n",
    "\n",
    "grad = [np.zeros(num_feature) for _ in range(no_users)] # old grads\n",
    "Hess = [np.zeros([num_feature, num_feature]) for _ in range(no_users)] # old hessians"
   ]
  },
  {
   "cell_type": "code",
   "execution_count": 216,
   "metadata": {
    "colab": {
     "base_uri": "https://localhost:8080/"
    },
    "executionInfo": {
     "elapsed": 6569,
     "status": "ok",
     "timestamp": 1654764835930,
     "user": {
      "displayName": "Abdulmomen Gholka",
      "userId": "04436549372656956778"
     },
     "user_tz": -180
    },
    "id": "oTUDJDeGo3Xe",
    "outputId": "3bc27f35-6502-4021-f9a3-23906d72e075"
   },
   "outputs": [],
   "source": [
    "# Optimal objective function, i.e., f(x*)\n",
    "obj0 = 0.02540046699809508 # a9a dataset"
   ]
  },
  {
   "cell_type": "code",
   "execution_count": 217,
   "metadata": {},
   "outputs": [],
   "source": [
    "n_iters = 200\n",
    "#rho =[0.05*np.log(1+t) for t in range(n_iters)]\n",
    "rho =[0.8 for t in range(n_iters)]\n",
    "alpha = 0.35\n",
    "# Best: rho=0.004, alpha = 0.035\n",
    "L = 8"
   ]
  },
  {
   "cell_type": "code",
   "execution_count": 218,
   "metadata": {
    "colab": {
     "base_uri": "https://localhost:8080/",
     "height": 1000
    },
    "executionInfo": {
     "elapsed": 25877,
     "status": "error",
     "timestamp": 1654764861790,
     "user": {
      "displayName": "Abdulmomen Gholka",
      "userId": "04436549372656956778"
     },
     "user_tz": -180
    },
    "id": "0ga7NIySF_6y",
    "outputId": "5bc73e34-e286-48e5-d981-e1d926003c65"
   },
   "outputs": [
    {
     "name": "stdout",
     "output_type": "stream",
     "text": [
      "0.5901875232408529 0.9772909280197732\n",
      "0.47919067437927365 0.9396530594943311\n",
      "0.3669102531216587 0.8919550944771617\n",
      "0.27060542180986324 0.8377372590679273\n",
      "0.19509848977569438 0.77971682381304\n",
      "0.13867225747431158 0.7199227214380959\n",
      "0.09757954264282893 0.6598042238759606\n",
      "0.06808489499291147 0.6003838751810178\n",
      "0.04709791871803379 0.5424079400113375\n",
      "0.03225150456388261 0.48646572845300234\n",
      "0.02179244582276583 0.4330108087394807\n",
      "0.014456539996542245 0.38242687755569904\n",
      "0.009347930683105268 0.3351205258581995\n",
      "0.005836263256488523 0.29162171401781317\n",
      "0.0034762827901562918 0.25265973370366684\n",
      "0.0019515504750618404 0.21924109366950223\n",
      "0.0010371458036495251 0.19274661004931948\n",
      "0.0005723453996170011 0.17482552644503144\n",
      "0.00044097802027405833 0.16682492016621095\n",
      "0.0005578637687066734 0.16885921878790144\n",
      "0.0008604856134926675 0.17950029001457496\n",
      "0.00130263063729405 0.1964786493184458\n",
      "0.001849548059771399 0.21760639631889186\n",
      "0.0024749338781816684 0.2412169379717828\n",
      "0.0031590568710131925 0.2661882850331099\n",
      "0.0038870251686398682 0.2918051571201777\n",
      "0.0046472743886933725 0.3176143822910461\n",
      "0.0054306008524636 0.3433250606357071\n",
      "0.006230305194109078 0.36876825305815125\n",
      "0.007041512869057378 0.39385069794537253\n",
      "0.007860417098171504 0.41851793298062573\n",
      "0.008683651197392697 0.44272905728191786\n",
      "0.009508846091330066 0.46646898688796845\n",
      "0.010334573857491116 0.48974512343069787\n",
      "0.011159868080647211 0.5125737121261099\n",
      "0.011983754681194825 0.5349674980309946\n",
      "0.012805403719841218 0.5569401282011767\n",
      "0.013624711131521822 0.5785210330177695\n",
      "0.014441911316475136 0.5997444714160294\n",
      "0.015257121802103837 0.6206376458173534\n",
      "0.016070027883112754 0.6412132915983614\n",
      "0.01688087605178126 0.6614954283601535\n",
      "0.017690267078773265 0.6815143205866412\n",
      "0.018498764845036753 0.7012972542501005\n",
      "0.019306557887484286 0.7208609228173074\n",
      "0.020113919068307447 0.74022303678515\n",
      "0.020921554983175012 0.7594104657142314\n",
      "0.02173024682029911 0.7784502000278851\n",
      "0.022540474005706638 0.7973604201900223\n",
      "0.023352337294263264 0.8161490815148882\n",
      "0.024166399431515436 0.8348337633674586\n",
      "0.02498341689713161 0.8534354431205602\n",
      "0.025803989177096937 0.8719707211901051\n",
      "0.026628293931158366 0.8904462453351291\n",
      "0.027456717253848132 0.9088731103423231\n",
      "0.028289949406534367 0.92726867833718\n",
      "0.029128654545183614 0.9456489586395119\n",
      "0.02997316030451423 0.9640218143323932\n",
      "0.03082360590150827 0.9823904422158\n",
      "0.03168049445284482 1.0007654191836497\n",
      "0.03254443175113156 1.0191590406781748\n",
      "0.03341582236416624 1.0375790207331528\n",
      "0.03429466897695509 1.0560245690569023\n",
      "0.035181296797052106 1.074501679688439\n",
      "0.036076243068083366 1.0930205179699408\n",
      "0.036979963030143365 1.1115891639617517\n",
      "0.03789258113950551 1.1302085879450132\n",
      "0.03881419999753545 1.1488791031196068\n",
      "0.03974520466399034 1.1676065030661935\n",
      "0.04068601871583086 1.1863971361467287\n",
      "0.04163684850397342 1.2052529630412565\n",
      "0.04259759603284537 1.2241700705386052\n",
      "0.04356850186399182 1.2431512748671099\n",
      "0.04454994826051219 1.2622020355255312\n",
      "0.045542202086359604 1.2813253962683815\n",
      "0.04654522078354423 1.300518369864969\n",
      "0.04755906700910033 1.3197799223519187\n",
      "0.048584015174115744 1.3391129230426793\n",
      "0.04962033100715922 1.3585200012555505\n",
      "0.05066806216094233 1.3779997798861274\n",
      "0.05172710653254188 1.3975482854377086\n",
      "0.05279763137583959 1.4171665756882066\n",
      "0.05387988739300041 1.4368571816135232\n",
      "0.054973990845400125 1.4566201355441506\n",
      "0.05607977801537298 1.4764504714246312\n",
      "0.05719727982317235 1.4963467129680852\n",
      "0.05832667869921024 1.5163100309677964\n",
      "0.05946811457037876 1.5363408482930216\n",
      "0.06062151803731902 1.5564360485485664\n",
      "0.061786789245254964 1.5765921505777143\n",
      "0.06296403624371688 1.5968093203493334\n",
      "0.0641534049311631 1.6170883598110963\n",
      "0.06535489875078035 1.6374276564589128\n",
      "0.06656829457801024 1.6578218675448464\n",
      "0.06779359849905323 1.6782695208138323\n",
      "0.06903091956856842 1.6987708505505568\n",
      "0.07028030189468425 1.7193250583187856\n",
      "0.07154159513791915 1.7399282964780656\n",
      "0.0728147055748772 1.7605777716103443\n",
      "0.0740996944638028 1.7812732453717124\n",
      "0.07539662664576373 1.8020145460016324\n",
      "0.07670542479694682 1.822799274691456\n",
      "0.0780258938277658 1.8436232515140976\n",
      "0.07935802075483055 1.8644851887757092\n",
      "0.08070185593413055 1.8853847996698532\n",
      "0.0820573712721397 1.9063206377909168\n",
      "0.08342436315843184 1.9272886898696633\n",
      "0.08480274443779182 1.9482868233015638\n",
      "0.08619253869082336 1.9693146249879567\n",
      "0.08759374859539387 1.9903713857653769\n",
      "0.0890062409829636 2.0114544135998034\n",
      "0.0904298480697003 2.032560566991694\n",
      "0.0918645423108969 2.053688801991785\n",
      "0.0933103282491524 2.0748385658158033\n",
      "0.094767125749695 2.096008130945283\n",
      "0.09623470042834839 2.1171936560645204\n",
      "0.09771297156999333 2.1383935835248926\n",
      "0.09920193321860547 2.1596074525962914\n",
      "0.10070154218893736 2.1808342963034226\n",
      "0.10221162983618635 2.202071430956992\n",
      "0.10373205302099829 2.223316578416975\n",
      "0.10526277317789416 2.2445689365119934\n",
      "0.10680376040920846 2.265827845089644\n",
      "0.10835489948620199 2.287091526804068\n",
      "0.10991598822849892 2.3083571043276745\n",
      "0.11148694958982898 2.329623449006976\n",
      "0.11306775402099985 2.350890093967737\n",
      "0.11465832515588185 2.3721559669549674\n",
      "0.11625847384961484 2.3934185422936363\n",
      "0.1178680773166061 2.4146762069761665\n",
      "0.11948708775394686 2.4359283496841533\n",
      "0.12111544933848652 2.4571742754357144\n",
      "0.12275302434581516 2.47841227364871\n",
      "0.1243996433898457 2.4996402861399636\n",
      "0.12605523291646228 2.520857518925461\n",
      "0.12771974501596395 2.5420635208871523\n",
      "0.12939308035288732 2.563257208500197\n",
      "0.13107504089151842 2.58443629547438\n",
      "0.13276552052225707 2.6055996721181383\n",
      "0.13446446425030154 2.626746877203689\n",
      "0.13617179788454348 2.647877230384519\n",
      "0.13788737146114788 2.6689891584181904\n",
      "0.13961104304243824 2.690081228536375\n",
      "0.14134274195244978 2.711152898013704\n",
      "0.143082406955699 2.732203749577627\n",
      "0.14482992461786987 2.753232754269803\n",
      "0.14658512040794405 2.774238181098808\n",
      "0.14834790047696747 2.7952192759316508\n",
      "0.15011820409623067 2.8161756852496014\n",
      "0.1518959446810565 2.8371067668467362\n",
      "0.15368096751809304 2.8580111133670116\n",
      "0.15547315276210275 2.8788877523962273\n",
      "0.15727243170741684 2.899736318098629\n",
      "0.1590787336153607 2.920556428958595\n",
      "0.16089193752114253 2.941347141422199\n",
      "0.16271189781091983 2.9621072500297188\n",
      "0.1645385305825812 2.9828362593659667\n",
      "0.1663717707393904 3.003533892263939\n",
      "0.16821152394909047 3.024199556304955\n",
      "0.1700576362962242 3.0448320196136107\n",
      "0.1719100055339058 3.0654306438828596\n",
      "0.1737685645072358 3.0859951871698903\n",
      "0.1756332363581823 3.106525305989943\n",
      "0.177503897757652 3.1270201590871465\n",
      "0.17938042678103633 3.1474789326506336\n",
      "0.1812627474304425 3.1679013163070153\n",
      "0.18315079193067801 3.188287092474138\n",
      "0.18504446240316952 3.2086357307628175\n",
      "0.18694361754584757 3.2289462560689963\n",
      "0.18884816859554435 3.2492182643246053\n",
      "0.19075804981366468 3.2694515995932303\n",
      "0.19267318112963086 3.28964595832574\n",
      "0.1945934407412752 3.3098006080280897\n",
      "0.1965187258593085 3.329915021934484\n",
      "0.1984489667740998 3.349989019475713\n",
      "0.20038409449490988 3.3700224301250072\n",
      "0.20232401083248258 3.390014790876205\n",
      "0.2042685975709461 3.409965446008691\n",
      "0.20621777662429255 3.42987415620679\n",
      "0.20817148347857153 3.449740821935652\n",
      "0.21012963686606012 3.469565176329038\n",
      "0.2120921190818108 3.489346592318194\n",
      "0.21405884249611734 3.509084748305222\n",
      "0.21602974236397635 3.5287795517051372\n",
      "0.21800474961820376 3.5484308685193997\n",
      "0.21998376805781186 3.5680383024218885\n",
      "0.221966698188076 3.5876014323968173\n",
      "0.22395347038763005 3.607120133945786\n",
      "0.22594402163584512 3.626594347374081\n",
      "0.22793827139330977 3.6460238436622276\n",
      "0.22993611126307403 3.665408128407607\n",
      "0.23193746545900776 3.684747023561359\n",
      "0.23394227335521736 3.704040496185694\n",
      "0.23595046691149943 3.723288443114441\n",
      "0.23796195367538955 3.742490532987427\n",
      "0.2399766492393451 3.7616465152551046\n",
      "0.24199449078266175 3.780756344579601\n",
      "0.24401541714742989 3.7998199905706445\n",
      "0.24603935005014585 3.8188372625584015\n",
      "0.2480661980189953 3.837807848690562\n"
     ]
    }
   ],
   "source": [
    "losses_dnl = []\n",
    "re_dnl = np.zeros(shape=[n_iters])\n",
    "op_gap_dnl = np.zeros(shape=[n_iters])\n",
    "theta0 = np.zeros(num_feature)\n",
    "\n",
    "for k in range(n_iters):\n",
    "    for i in range(no_users):        \n",
    "        grad[i] = gradient(theta[i], X[i], y[i], lambda_logistic)\n",
    "        Hess[i] = hessian(theta[i], X[i], y[i], lambda_logistic)\n",
    "    \n",
    "    for i in range(no_users):\n",
    "        w_neighbors_sum = np.zeros(num_feature)\n",
    "        for j in G.neighbors(i):\n",
    "            w_neighbors_sum = np.add(w_neighbors_sum, d_old[j])\n",
    "        degree = G.degree(i)\n",
    "        d_new[i] = np.matmul(np.linalg.inv(Hess[i] +  (2 * degree * rho[k] + alpha) * np.eye(num_feature)),\\\n",
    "                                        grad[i] - lamd[i] + rho[k] * (degree * d_old[i] + w_neighbors_sum))\n",
    "                    \n",
    "\n",
    "    #print(np.linalg.norm(d_new[10]))\n",
    "    \n",
    "    # Dual Variable Update\n",
    "    for i in range(no_users):\n",
    "        w_neighbors_sum = np.zeros(num_feature)\n",
    "        for j in G.neighbors(i):\n",
    "            d_q,_,_,_ = quantize_vector(d_new[j], L)\n",
    "            w_neighbors_sum = np.add(w_neighbors_sum, d_q)\n",
    "        degree = G.degree(i)\n",
    "        lamd[i] = lamd[i] + rho[i] * (degree * d_new[i] - w_neighbors_sum)\n",
    "\n",
    "    #print(np.linalg.norm(lamd[10]))\n",
    "        \n",
    "    for i in range(no_users):\n",
    "        theta[i] = theta[i] - d_new[i]\n",
    "        d_old[i] = d_new[i]\n",
    "        \n",
    "    # Performance Check\n",
    "    theta_avg = 1/no_users*sum(theta)\n",
    "        \n",
    "    for i in range(no_users):\n",
    "        loss_dnl = np.mean([loss(theta_avg, X[i], y[i], lambda_logistic) for i in range(no_users)])\n",
    "        losses_dnl.append(loss_dnl)\n",
    "    \n",
    "    op_gap_dnl[k] = np.abs(losses_dnl[-1] - obj0)\n",
    "    \n",
    "    re_dnl[k] = np.linalg.norm(theta_avg-theta_opt)/np.linalg.norm(theta0-theta_opt)\n",
    "    \n",
    "    print(op_gap_dnl[k], re_dnl[k])"
   ]
  },
  {
   "cell_type": "markdown",
   "metadata": {},
   "source": [
    "# Optimality Gap"
   ]
  },
  {
   "cell_type": "code",
   "execution_count": 219,
   "metadata": {
    "executionInfo": {
     "elapsed": 43,
     "status": "aborted",
     "timestamp": 1654764861784,
     "user": {
      "displayName": "Abdulmomen Gholka",
      "userId": "04436549372656956778"
     },
     "user_tz": -180
    },
    "id": "Tacuz2qbTuPJ"
   },
   "outputs": [
    {
     "data": {
      "image/png": "[encoded data removed]",
      "text/plain": [
       "<Figure size 640x480 with 1 Axes>"
      ]
     },
     "metadata": {},
     "output_type": "display_data"
    }
   ],
   "source": [
    "import matplotlib.pyplot as plt\n",
    "plt.semilogy(op_gap_dnl)\n",
    "#plt.ylim([10**(-5),0.5])\n",
    "np.save('op_gap_dnl_q', op_gap_dnl)"
   ]
  },
  {
   "cell_type": "code",
   "execution_count": 17,
   "metadata": {},
   "outputs": [
    {
     "data": {
      "text/plain": [
       "-0.12634904125482843"
      ]
     },
     "execution_count": 17,
     "metadata": {},
     "output_type": "execute_result"
    }
   ],
   "source": [
    "theta_opt[10]"
   ]
  },
  {
   "cell_type": "code",
   "execution_count": 18,
   "metadata": {},
   "outputs": [
    {
     "data": {
      "text/plain": [
       "-0.120634575157594"
      ]
     },
     "execution_count": 18,
     "metadata": {},
     "output_type": "execute_result"
    }
   ],
   "source": [
    "theta_avg[10]"
   ]
  }
 ],
 "metadata": {
  "accelerator": "GPU",
  "colab": {
   "collapsed_sections": [],
   "name": "DNL.ipynb",
   "provenance": []
  },
  "kernelspec": {
   "display_name": "Python 3 (ipykernel)",
   "language": "python",
   "name": "python3"
  },
  "language_info": {
   "codemirror_mode": {
    "name": "ipython",
    "version": 3
   },
   "file_extension": ".py",
   "mimetype": "text/x-python",
   "name": "python",
   "nbconvert_exporter": "python",
   "pygments_lexer": "ipython3",
   "version": "3.9.20"
  }
 },
 "nbformat": 4,
 "nbformat_minor": 4
}
