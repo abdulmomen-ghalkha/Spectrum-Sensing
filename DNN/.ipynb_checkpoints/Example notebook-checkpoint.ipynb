{
 "cells": [
  {
   "cell_type": "code",
   "execution_count": 1,
   "id": "f2822a83",
   "metadata": {},
   "outputs": [],
   "source": [
    "%reload_ext autoreload\n",
    "%autoreload 2\n",
    "\n",
    "import numpy as np\n",
    "import matplotlib.pyplot as plt\n",
    "import matplotlib\n",
    "import math\n",
    "\n",
    "from oracles import LogReg\n",
    "from methods import Standard_Newton, Newton_Star\n",
    "from methods import NL1\n",
    "from methods import DINGO, Gradient_Descent\n",
    "from methods import diana, adiana\n",
    "from methods import FedNL, FedNL_CR, FedNL_LS\n",
    "from methods import Newton_Zero\n",
    "from methods import FedNL_BC, FedNL_PP\n",
    "from methods import Artemis, DORE\n",
    "\n",
    "from utils import read_data, generate_synthetic\n",
    "from utils import loss_logistic, grad, random_k, positive_part\n",
    "from utils import default_dataset_parameters\n",
    "from utils import topK_vectors, biased_rounding, randomK_vectors\n",
    "from utils import Low_Rank, PowerSgdCompression, TopK\n",
    "from utils import pos_projection, semidef_projection\n",
    "from utils import random_spars_matrix, rand_dith"
   ]
  },
  {
   "cell_type": "code",
   "execution_count": 2,
   "id": "fe7898c3",
   "metadata": {},
   "outputs": [],
   "source": [
    "data_name = 'w8a'\n",
    "dataset_path = './Datasets/{}.txt'.format(data_name)\n",
    "\n",
    "\n",
    "# regularization parameter\n",
    "lmb = 1e-3\n",
    "\n",
    "# number of nodes, size of local data, and dimension of the problem\n",
    "# according to the paper\n",
    "N = default_dataset_parameters[data_name]['N']# size of the whole data set\n",
    "n = default_dataset_parameters[data_name]['n']# number of nodes\n",
    "m = default_dataset_parameters[data_name]['m']# size of local data set\n",
    "d = default_dataset_parameters[data_name]['d']# dimension of the problem"
   ]
  },
  {
   "cell_type": "code",
   "execution_count": 3,
   "id": "49819d3c",
   "metadata": {},
   "outputs": [],
   "source": [
    "A, b = read_data(dataset_path=dataset_path, \n",
    "                 N=N, n=n, m=m, d=d, lmb=lmb,\n",
    "                labels=['+1', '-1']) #['+1', '-1'] ['0', '1']"
   ]
  },
  {
   "cell_type": "code",
   "execution_count": 4,
   "id": "5b7bbcc7",
   "metadata": {},
   "outputs": [
    {
     "data": {
      "text/plain": [
       "(49700, 300)"
      ]
     },
     "execution_count": 4,
     "metadata": {},
     "output_type": "execute_result"
    }
   ],
   "source": [
    "A.shape"
   ]
  },
  {
   "cell_type": "code",
   "execution_count": 5,
   "id": "551caca8",
   "metadata": {},
   "outputs": [],
   "source": [
    "np.save('X', A)\n",
    "np.save('y', b)"
   ]
  },
  {
   "cell_type": "raw",
   "id": "3a6765d1",
   "metadata": {},
   "source": [
    "A = np.load('./Datasets/synth/' + 'X.npy')\n",
    "b = np.load('./Datasets/synth/' + 'y.npy').ravel()\n",
    "lmb = 1e-3\n",
    "n = 1\n",
    "m = 50000\n",
    "d = 100\n",
    "print(A.shape[0]//n)"
   ]
  },
  {
   "cell_type": "code",
   "execution_count": 6,
   "id": "d6438789",
   "metadata": {},
   "outputs": [
    {
     "name": "stdout",
     "output_type": "stream",
     "text": [
      "0.6931471805599453\n",
      "0.3300042069267164\n",
      "0.24171863336934113\n",
      "0.20196566023991686\n",
      "0.18682319128726593\n",
      "0.18365590448221247\n",
      "0.18347382452058672\n",
      "0.18347305829045374\n",
      "0.18347305827508606\n",
      "0.1834730582750861\n",
      "0.1834730582750861\n",
      "0.1834730582750861\n",
      "0.1834730582750861\n",
      "0.1834730582750861\n",
      "0.1834730582750861\n",
      "0.1834730582750861\n",
      "0.1834730582750861\n",
      "0.1834730582750861\n",
      "0.1834730582750861\n",
      "0.1834730582750861\n"
     ]
    }
   ],
   "source": [
    "# set the problem \n",
    "logreg = LogReg(A=A, b=b, reg_coef=lmb, n=n, m=m)\n",
    "\n",
    "# find the solution using Newton's method starting from zeros for 20 iterations\n",
    "Newton = Standard_Newton(logreg)\n",
    "Newton.find_optimum(x0=np.zeros(d), n_steps=20,verbose=True)"
   ]
  },
  {
   "cell_type": "code",
   "execution_count": 7,
   "id": "b59b9005",
   "metadata": {},
   "outputs": [],
   "source": [
    "# set optimum and optimal function value\n",
    "x_opt = logreg.get_optimum()\n",
    "f_opt = logreg.function_value(x_opt)"
   ]
  },
  {
   "cell_type": "code",
   "execution_count": 8,
   "id": "f38bf982",
   "metadata": {},
   "outputs": [
    {
     "data": {
      "text/plain": [
       "0.1834730582750861"
      ]
     },
     "execution_count": 8,
     "metadata": {},
     "output_type": "execute_result"
    }
   ],
   "source": [
    "f_opt"
   ]
  },
  {
   "cell_type": "code",
   "execution_count": 9,
   "id": "7f53e453",
   "metadata": {},
   "outputs": [],
   "source": [
    "np.save('x_opt',x_opt)"
   ]
  },
  {
   "cell_type": "code",
   "execution_count": 10,
   "id": "710dce6d",
   "metadata": {},
   "outputs": [
    {
     "data": {
      "text/plain": [
       "(300,)"
      ]
     },
     "execution_count": 10,
     "metadata": {},
     "output_type": "execute_result"
    }
   ],
   "source": [
    "x_opt.shape"
   ]
  },
  {
   "cell_type": "code",
   "execution_count": null,
   "id": "a846d997",
   "metadata": {},
   "outputs": [],
   "source": []
  }
 ],
 "metadata": {
  "kernelspec": {
   "display_name": "Python 3",
   "language": "python",
   "name": "python3"
  },
  "language_info": {
   "codemirror_mode": {
    "name": "ipython",
    "version": 3
   },
   "file_extension": ".py",
   "mimetype": "text/x-python",
   "name": "python",
   "nbconvert_exporter": "python",
   "pygments_lexer": "ipython3",
   "version": "3.8.8"
  }
 },
 "nbformat": 4,
 "nbformat_minor": 5
}
