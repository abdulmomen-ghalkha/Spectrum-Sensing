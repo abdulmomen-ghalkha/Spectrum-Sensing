{
 "cells": [
  {
   "cell_type": "code",
   "execution_count": 1,
   "metadata": {
    "_cell_guid": "b1076dfc-b9ad-4769-8c92-a6c4dae69d19",
    "_uuid": "8f2839f25d086af736a60e9eeb907d3b93b6e0e5",
    "executionInfo": {
     "elapsed": 245,
     "status": "ok",
     "timestamp": 1654764826706,
     "user": {
      "displayName": "Abdulmomen Gholka",
      "userId": "04436549372656956778"
     },
     "user_tz": -180
    },
    "id": "VYzJgl_mTuOo"
   },
   "outputs": [],
   "source": [
    "import numpy as np # linear algebra\n",
    "import pandas as pd # data processing, CSV file I/O (e.g. pd.read_csv)\n",
    "import tensorflow as tf\n",
    "import os\n",
    "\n",
    "import scipy\n",
    "import networkx as nx\n",
    "\n",
    "from sklearn.linear_model import LogisticRegression\n",
    "from sklearn.metrics import log_loss\n",
    "from numpy import linalg as LA"
   ]
  },
  {
   "cell_type": "code",
   "execution_count": 2,
   "metadata": {},
   "outputs": [],
   "source": [
    "seed = 42\n",
    "no_users = 10\n",
    "lambda_logistic = 1e-3"
   ]
  },
  {
   "cell_type": "code",
   "execution_count": 54,
   "metadata": {},
   "outputs": [],
   "source": [
    "def quantize_vector(X, L, x_min=None, x_max=None):\n",
    "    # If min/max are not given, compute them from the data\n",
    "    if x_min is None:\n",
    "        x_min = np.min(X)\n",
    "    if x_max is None:\n",
    "        x_max = np.max(X)\n",
    "\n",
    "    # Compute step size\n",
    "    delta = (x_max - x_min) / (L - 1)\n",
    "\n",
    "    # Compute quantized indices for each element in X\n",
    "    Q = np.round((X - x_min) / delta)\n",
    "\n",
    "    # Clip indices to stay within valid range\n",
    "    Q = np.clip(Q, 0, L - 1).astype(int)\n",
    "\n",
    "    # Get quantized values\n",
    "    X_q = x_min + Q * delta\n",
    "\n",
    "    return X_q, Q, delta, x_min  # Return values, indices, step size, and min value for dequantization\n",
    "\n",
    "def dequantize_vector(Q, delta, x_min):\n",
    "    \"\"\"\n",
    "    Convert quantized indices back to floating-point values.\n",
    "    \"\"\"\n",
    "    return x_min + Q * delta"
   ]
  },
  {
   "cell_type": "code",
   "execution_count": 55,
   "metadata": {},
   "outputs": [],
   "source": [
    "def random_split(X, y, n, seed):\n",
    "    \"\"\"Equally split data between n agents\"\"\"\n",
    "    rng = np.random.default_rng(seed)\n",
    "    perm = rng.permutation(y.size)\n",
    "    X_split = np.array_split(X[perm], n)  #np.stack to keep as a np array\n",
    "    y_split = np.array_split(y[perm], n)\n",
    "    return X_split, y_split"
   ]
  },
  {
   "cell_type": "code",
   "execution_count": 56,
   "metadata": {},
   "outputs": [],
   "source": [
    "def loss(w, A, b, l2):\n",
    "    z = b * np.dot(A, w)\n",
    "    tmp = np.minimum(z, 0)\n",
    "    loss = np.log((np.exp(tmp) + np.exp(tmp - z)) / np.exp(tmp))\n",
    "    loss_sum = np.sum(loss) / len(b)\n",
    "    reg = (np.linalg.norm(w) ** 2) * l2 / 2\n",
    "    return loss_sum + reg"
   ]
  },
  {
   "cell_type": "code",
   "execution_count": 57,
   "metadata": {},
   "outputs": [],
   "source": [
    "def gradient(w, A, b, l2):\n",
    "    m = A.shape[0]\n",
    "    bAw = b * (A @ w)\n",
    "    temp = 1. / (1. + np.exp(bAw))\n",
    "    res = -(A.T @ (b * temp))/m + l2 * w\n",
    "    return res"
   ]
  },
  {
   "cell_type": "code",
   "execution_count": 58,
   "metadata": {},
   "outputs": [],
   "source": [
    "def hessian(w, A, b, l2):\n",
    "    bAw = b * (A @ w)\n",
    "    activation = scipy.special.expit(bAw)\n",
    "    weights = activation * (1-activation)\n",
    "    A_weighted = np.multiply(A.T, weights)\n",
    "    return A_weighted@A/A.shape[0] + l2*np.eye(A.shape[1])"
   ]
  },
  {
   "cell_type": "code",
   "execution_count": 59,
   "metadata": {},
   "outputs": [],
   "source": [
    "def degrees(A):\n",
    "    \"\"\"Return the degrees of each node of a graph from its adjacency matrix\"\"\"\n",
    "    return np.sum(A, axis=0).reshape(A.shape[0], 1)"
   ]
  },
  {
   "cell_type": "code",
   "execution_count": 60,
   "metadata": {},
   "outputs": [],
   "source": [
    "def generate_graph(n, seed):\n",
    "    \"\"\"Generate a random connected graph\"\"\"\n",
    "    while True:\n",
    "        g = nx.generators.random_graphs.binomial_graph(n, 0.4, seed = seed) \n",
    "        if nx.algorithms.components.is_connected(g):\n",
    "            return g"
   ]
  },
  {
   "cell_type": "code",
   "execution_count": 61,
   "metadata": {
    "colab": {
     "base_uri": "https://localhost:8080/",
     "height": 355
    },
    "executionInfo": {
     "elapsed": 469,
     "status": "ok",
     "timestamp": 1654764827400,
     "user": {
      "displayName": "Abdulmomen Gholka",
      "userId": "04436549372656956778"
     },
     "user_tz": -180
    },
    "id": "WKBlmnurkFhZ",
    "outputId": "0d99ecbb-c147-46e7-e79d-a969f15e9e87"
   },
   "outputs": [
    {
     "name": "stdout",
     "output_type": "stream",
     "text": [
      "20\n",
      "10\n"
     ]
    }
   ],
   "source": [
    "G = generate_graph(no_users, seed)\n",
    "adjacency_matrix = nx.linalg.graphmatrix.adjacency_matrix(G)\n",
    "print(G.number_of_edges())\n",
    "print(G.number_of_nodes())\n",
    "#nx.draw(G, with_labels=True, font_weight='bold')"
   ]
  },
  {
   "cell_type": "code",
   "execution_count": 249,
   "metadata": {},
   "outputs": [
    {
     "name": "stdout",
     "output_type": "stream",
     "text": [
      "6\n"
     ]
    }
   ],
   "source": [
    "degrees = [G.degree(i) for i in range(no_users)]\n",
    "print(max(degrees))"
   ]
  },
  {
   "cell_type": "code",
   "execution_count": 62,
   "metadata": {},
   "outputs": [],
   "source": [
    "theta_opt = np.load('x_opt.npy')"
   ]
  },
  {
   "cell_type": "code",
   "execution_count": 241,
   "metadata": {
    "executionInfo": {
     "elapsed": 8,
     "status": "ok",
     "timestamp": 1654764829365,
     "user": {
      "displayName": "Abdulmomen Gholka",
      "userId": "04436549372656956778"
     },
     "user_tz": -180
    },
    "id": "0poGZyj0TuOx"
   },
   "outputs": [],
   "source": [
    "X = np.load('X.npy')\n",
    "y = np.load('y.npy').ravel()\n",
    "\n",
    "num_feature = X.shape[1] #+ 1 #+1 for bias"
   ]
  },
  {
   "cell_type": "code",
   "execution_count": 242,
   "metadata": {},
   "outputs": [
    {
     "data": {
      "text/plain": [
       "3"
      ]
     },
     "execution_count": 242,
     "metadata": {},
     "output_type": "execute_result"
    }
   ],
   "source": [
    "num_feature"
   ]
  },
  {
   "cell_type": "code",
   "execution_count": 243,
   "metadata": {},
   "outputs": [],
   "source": [
    "X, y = random_split(X, y, no_users, seed)\n",
    "\n",
    "theta = [np.zeros(num_feature) for _ in range(no_users)] # initial model\n",
    "\n",
    "d_new = [np.zeros(num_feature) for _ in range(no_users)] # direction\n",
    "d_old = [np.zeros(num_feature) for _ in range(no_users)] # old direction\n",
    "\n",
    "lamd = [np.zeros(num_feature) for _ in range(no_users)] # dual variables\n",
    "\n",
    "grad = [np.zeros(num_feature) for _ in range(no_users)] # old grads\n",
    "Hess = [np.zeros([num_feature, num_feature]) for _ in range(no_users)] # old hessians"
   ]
  },
  {
   "cell_type": "code",
   "execution_count": 244,
   "metadata": {
    "colab": {
     "base_uri": "https://localhost:8080/"
    },
    "executionInfo": {
     "elapsed": 6569,
     "status": "ok",
     "timestamp": 1654764835930,
     "user": {
      "displayName": "Abdulmomen Gholka",
      "userId": "04436549372656956778"
     },
     "user_tz": -180
    },
    "id": "oTUDJDeGo3Xe",
    "outputId": "3bc27f35-6502-4021-f9a3-23906d72e075"
   },
   "outputs": [],
   "source": [
    "# Optimal objective function, i.e., f(x*)\n",
    "obj0 = 0.02540046699809508 # a9a dataset"
   ]
  },
  {
   "cell_type": "code",
   "execution_count": 245,
   "metadata": {},
   "outputs": [],
   "source": [
    "n_iters = 200\n",
    "#rho =[0.05*np.log(1+t) for t in range(n_iters)]\n",
    "rho =[0.08 for t in range(n_iters)]\n",
    "alpha = 0.5\n",
    "# Best: rho=0.004, alpha = 0.035\n",
    "L = 8"
   ]
  },
  {
   "cell_type": "code",
   "execution_count": 246,
   "metadata": {
    "colab": {
     "base_uri": "https://localhost:8080/",
     "height": 1000
    },
    "executionInfo": {
     "elapsed": 25877,
     "status": "error",
     "timestamp": 1654764861790,
     "user": {
      "displayName": "Abdulmomen Gholka",
      "userId": "04436549372656956778"
     },
     "user_tz": -180
    },
    "id": "0ga7NIySF_6y",
    "outputId": "5bc73e34-e286-48e5-d981-e1d926003c65"
   },
   "outputs": [
    {
     "name": "stdout",
     "output_type": "stream",
     "text": [
      "0.4135117586650272 0.9128903797922161\n",
      "0.2478305444285935 0.8211302477046901\n",
      "0.15744481958923842 0.7404615806734012\n",
      "0.1070306298759094 0.6733025445759085\n",
      "0.07740157679334626 0.6186186640685204\n",
      "0.05895871195522458 0.5742522785583124\n",
      "0.0468220320976704 0.5379668540617265\n",
      "0.03841708271298144 0.5078492949871043\n",
      "0.032327871287876606 0.4824058777967836\n",
      "0.027742194815542024 0.46052534456069655\n",
      "0.02417387489869102 0.44139417133821185\n",
      "0.021318746381432187 0.42440832787969923\n",
      "0.01898039051258484 0.4091223464098233\n",
      "0.017028308491148416 0.395209881793647\n",
      "0.015373225983009522 0.3824312526215078\n",
      "0.013952116810973827 0.37060738812600563\n",
      "0.012718708407784687 0.3595968666315317\n",
      "0.01163836862188335 0.3492875486056955\n",
      "0.010684742208120549 0.33959055583143827\n",
      "0.0098374173065237 0.33043497929617066\n",
      "0.009080297201775406 0.321763421114708\n",
      "0.008400453908916822 0.3135283135488984\n",
      "0.007787326358202059 0.3056891238445043\n",
      "0.007232186171499021 0.29821081550785555\n",
      "0.006727756616064531 0.2910629037645827\n",
      "0.006267921031236131 0.28421868209611806\n",
      "0.005847492933642593 0.27765449639066325\n",
      "0.00546204587589157 0.27134929894245935\n",
      "0.005107782721991326 0.2652843503504294\n",
      "0.004781430967296944 0.2594429694630937\n",
      "0.00448015588388791 0.25381026874538815\n",
      "0.004201488928372604 0.24837289640799506\n",
      "0.003943269068980505 0.24311880091917223\n",
      "0.0037035959744355085 0.2380370546218231\n",
      "0.0034807915573756773 0.23311770556737238\n",
      "0.0032733683616909155 0.22835165793633266\n",
      "0.003080003394104653 0.2237305757279351\n",
      "0.0028995162596926194 0.2192468034870077\n",
      "0.002730850721254705 0.21489329879088495\n",
      "0.002573059021911954 0.2106635728310529\n",
      "0.0024252884780613833 0.20655163699218038\n",
      "0.0022867699688948855 0.2025519544855442\n",
      "0.0021568080290278215 0.19865939673423474\n",
      "0.0020347723043444774 0.19486920441536754\n",
      "0.0019200901685511203 0.19117695300407406\n",
      "0.001812240326724817 0.1875785225008727\n",
      "0.0017107472567499844 0.18407007087744912\n",
      "0.0016151763618040167 0.18064801070458855\n",
      "0.0015251297273207558 0.1773089884376263\n",
      "0.001440242393816904 0.17404986590603652\n",
      "0.001360179072273992 0.17086770365114942\n",
      "0.0012846312413407161 0.16775974585045964\n",
      "0.0012133145756647971 0.16472340664105126\n",
      "0.0011459666625884476 0.16175625770287672\n",
      "0.0010823449707251902 0.15885601698835583\n",
      "0.001022225039020868 0.1560205384955703\n",
      "0.0009653988591306999 0.1532478029861585\n",
      "0.0009116734275525958 0.15053590955178955\n",
      "0.0008608694470836516 0.14788306793793338\n",
      "0.0008128201598905267 0.14528759154124335\n",
      "0.0007673702968476852 0.14274789100638732\n",
      "0.0007243751298349199 0.1402624683582158\n",
      "0.0006836996154275174 0.13782991161446226\n",
      "0.0006452176198962108 0.1354488898320112\n",
      "0.0006088112166963526 0.13311814854587417\n",
      "0.0005743700487042258 0.13083650556463622\n",
      "0.0005417907483843028 0.1286028470896186\n",
      "0.0005109764098724309 0.1264161241278011\n",
      "0.00048183610765703544 0.12427534917095207\n",
      "0.0004542844571498554 0.12217959311564865\n",
      "0.0004282412129711123 0.12012798240096575\n",
      "0.00040363090124258955 0.11811969634261044\n",
      "0.00038038248259230495 0.11615396464409235\n",
      "0.00035842904293515235 0.11423006506716243\n",
      "0.0003377075094101352 0.11234732124515794\n",
      "0.00031815838913290886 0.11050510062410408\n",
      "0.00029972552866796426 0.10870281251744904\n",
      "0.0002823558923407028 0.10693990626117647\n",
      "0.0002659993577016663 0.10521586945679859\n",
      "0.00025060852662494443 0.1035302262903915\n",
      "0.0002361385506738263 0.10188253591642754\n",
      "0.0002225469695012229 0.10027239089569938\n",
      "0.0002097935611721155 0.09869941567712073\n",
      "0.00019784020340225458 0.09716326511365263\n",
      "0.0001866507448027334 0.09566362300303977\n",
      "0.00017619088530560975 0.09420020064446322\n",
      "0.0001664280650221263 0.09277273540264025\n",
      "0.00015733136085397878 0.09138098927133184\n",
      "0.0001488713902392698 0.09002474742867676\n",
      "0.0001410202214706842 0.08870381677726634\n",
      "0.0001337512900731093 0.08741802446241462\n",
      "0.00012703932077286553 0.08616721636269056\n",
      "0.00012086025463148298 0.08495125554745547\n",
      "0.0001151911809536034 0.08377002069691154\n",
      "0.00011001027361177626 0.08262340448102597\n",
      "0.00010529673146092433 0.08151131189464522\n",
      "0.00010103072254272552 0.08043365854717101\n",
      "9.719333180463474e-05 0.07939036890633115\n",
      "9.376651208084855e-05 0.07838137449683698\n",
      "9.07330381031135e-05 0.07740661205608156\n",
      "8.807646332742447e-05 0.07646602165047468\n",
      "8.578107938029753e-05 0.0755595447575252\n",
      "8.383187794299557e-05 0.07468712232034949\n",
      "8.221451490670814e-05 0.07384869278287076\n",
      "8.091527664443737e-05 0.07304419011556286\n",
      "7.992104825712068e-05 0.07227354184313008\n",
      "7.921928366209571e-05 0.0715366670869807\n",
      "7.879797740238323e-05 0.07083347463668398\n",
      "7.864563806379496e-05 0.07016386106577095\n",
      "7.875126319541875e-05 0.06952770890819025\n",
      "7.91043156368118e-05 0.06892488491242202\n",
      "7.969470116189065e-05 0.06835523839064643\n",
      "8.051274735628583e-05 0.06781859968041443\n",
      "8.154918365056371e-05 0.06731477873596325\n",
      "8.27951224375012e-05 0.06684356386562096\n",
      "8.42420412063942e-05 0.06640472063065998\n",
      "8.588176563202252e-05 0.06599799091948387\n",
      "8.770645356044951e-05 0.06562309220919264\n",
      "8.970857983736993e-05 0.06527971702438157\n",
      "9.188092192884828e-05 0.06496753260056112\n",
      "9.421654628724921e-05 0.06468618075686405\n",
      "9.67087954185826e-05 0.06443527797982386\n",
      "9.935127561025783e-05 0.06421441571702202\n",
      "0.00010213784528103481 0.06402316087640095\n",
      "0.00010506260391717273 0.06386105652409557\n",
      "0.0001081198815615532 0.06372762277083789\n",
      "0.00011130422882427507 0.06362235783440051\n",
      "0.00011461040738538 0.06354473926323889\n",
      "0.00011803338096231034 0.06349422530451876\n",
      "0.00012156830671622432 0.06347025639812742\n",
      "0.00012521052707311492 0.06347225677707254\n",
      "0.0001289555619369276 0.06349963615391767\n",
      "0.00013279910127351677 0.0635517914725552\n",
      "0.00013673699804538433 0.06362810870468649\n",
      "0.00014076526147844062 0.06372796467082958\n",
      "0.0001448800506431598 0.06385072886647587\n",
      "0.0001490776683761054 0.06399576527822187\n",
      "0.0001533545555676072 0.06416243417680487\n",
      "0.00015770728551591298 0.06435009385075172\n",
      "0.0001621325585819157 0.06455810228335349\n",
      "0.00016662719709552992 0.06478581875916338\n",
      "0.0001711881404949829 0.06503260538972573\n",
      "0.00017581244068587756 0.06529782855038486\n",
      "0.00018049725760848137 0.06558086022184911\n",
      "0.0001852398550021457 0.06588107923190217\n",
      "0.0001900375963567076 0.06619787239427165\n",
      "0.0001948879410411386 0.0665306355431776\n",
      "0.0001997884406006352 0.06687877446344445\n",
      "0.00020473673521356067 0.06724170571727671\n",
      "0.00020973055030066093 0.06761885736986192\n",
      "0.0002147676932788868 0.06800966961686117\n",
      "0.00021984605045305416 0.06841359531759314\n",
      "0.00022496358403860037 0.06883010043832412\n",
      "0.000230118329309352 0.06925866441052991\n",
      "0.00023530839186437433 0.06969878040934138\n",
      "0.0002405319450081364 0.07014995555759744\n",
      "0.0002457872272390513 0.07061171106105986\n",
      "0.0002510725398410449 0.07108358228036696\n",
      "0.00025638624457362605 0.07156511874526517\n",
      "0.0002617267614557703 0.07205588411654655\n",
      "0.0002670925666395929 0.07255545610096077\n",
      "0.0002724821903693983 0.07306342632416514\n",
      "0.0002778942150226116 0.0735794001665447\n",
      "0.00028332727322865486 0.07410299656647254\n",
      "0.00028878004606247565 0.07463384779530471\n",
      "0.00029425126130929596 0.07517159920812444\n",
      "0.0002997396917975466 0.0757159089739533\n",
      "0.0003052441537968638 0.07626644778886459\n",
      "0.00031076350547848755 0.07682289857514606\n",
      "0.000316296645435199 0.07738495616938876\n",
      "0.0003218425112582954 0.07795232700210118\n",
      "0.000327400078169119 0.07852472877120452\n",
      "0.00033296835770295005 0.07910189011151755\n",
      "0.0003385463964427522 0.07968355026211096\n",
      "0.00034413327480096664 0.08026945873320145\n",
      "0.00034972810584715103 0.0808593749740572\n",
      "0.00035533003417956635 0.08145306804319807\n",
      "0.00036093823483897974 0.08205031628201558\n",
      "0.0003665519122628032 0.08265090699276818\n",
      "0.00037217029927795117 0.0832546361217817\n",
      "0.0003777926561309049 0.08386130794854377\n",
      "0.00038341826955333794 0.0844707347812733\n",
      "0.00038904645186190606 0.08508273665943795\n",
      "0.0003946765400909026 0.0856971410635988\n",
      "0.0004003078951562884 0.08631378263287906\n",
      "0.00040593990104998215 0.08693250289027926\n",
      "0.0004115719640631621 0.08755314997599394\n",
      "0.0004172035120373514 0.08817557838882739\n",
      "0.00042283399364232213 0.08879964873575807\n",
      "0.000428462877679673 0.0894252274896492\n",
      "0.00043408965241104394 0.09005218675507845\n",
      "0.00043971382491011027 0.09068040404220719\n",
      "0.00044533492043736037 0.09130976204860168\n",
      "0.00045095248183681796 0.09194014844888009\n",
      "0.00045656606895372667 0.09257145569204518\n",
      "0.0004621752580727008 0.09320358080634683\n",
      "0.0004677796413751524 0.09383642521150047\n",
      "0.00047337882641564424 0.09446989453808255\n",
      "0.0004789724356161415 0.0951038984539113\n",
      "0.00048456010577774267 0.09573835049721298\n"
     ]
    }
   ],
   "source": [
    "losses_dnl = []\n",
    "re_dnl = np.zeros(shape=[n_iters])\n",
    "op_gap_dnl = np.zeros(shape=[n_iters])\n",
    "theta0 = np.zeros(num_feature)\n",
    "\n",
    "for k in range(n_iters):\n",
    "    for i in range(no_users):        \n",
    "        grad[i] = gradient(theta[i], X[i], y[i], lambda_logistic)\n",
    "        Hess[i] = hessian(theta[i], X[i], y[i], lambda_logistic)\n",
    "    \n",
    "    for i in range(no_users):\n",
    "        w_neighbors_sum = np.zeros(num_feature)\n",
    "        for j in G.neighbors(i):\n",
    "            w_neighbors_sum = np.add(w_neighbors_sum, d_old[j])\n",
    "        degree = G.degree(i)\n",
    "        d_new[i] = np.matmul(np.linalg.inv(Hess[i] +  (2 * degree * rho[k] + alpha) * np.eye(num_feature)),\\\n",
    "                                        grad[i] - lamd[i] + rho[k] * (degree * d_old[i] + w_neighbors_sum))\n",
    "                    \n",
    "\n",
    "    #print(np.linalg.norm(d_new[10]))\n",
    "    \n",
    "    # Dual Variable Update\n",
    "    for i in range(no_users):\n",
    "        w_neighbors_sum = np.zeros(num_feature)\n",
    "        for j in G.neighbors(i):\n",
    "            d_q,_,_,_ = quantize_vector(d_new[j], L)\n",
    "            w_neighbors_sum = np.add(w_neighbors_sum, d_q)\n",
    "        degree = G.degree(i)\n",
    "        lamd[i] = lamd[i] + rho[i] * (degree * d_new[i] - w_neighbors_sum)\n",
    "\n",
    "    #print(np.linalg.norm(lamd[10]))\n",
    "        \n",
    "    for i in range(no_users):\n",
    "        theta[i] = theta[i] - d_new[i]\n",
    "        d_old[i] = d_new[i]\n",
    "        \n",
    "    # Performance Check\n",
    "    theta_avg = 1/no_users*sum(theta)\n",
    "        \n",
    "    for i in range(no_users):\n",
    "        loss_dnl = np.mean([loss(theta_avg, X[i], y[i], lambda_logistic) for i in range(no_users)])\n",
    "        losses_dnl.append(loss_dnl)\n",
    "    \n",
    "    op_gap_dnl[k] = np.abs(losses_dnl[-1] - obj0)\n",
    "    \n",
    "    re_dnl[k] = np.linalg.norm(theta_avg-theta_opt)/np.linalg.norm(theta0-theta_opt)\n",
    "    \n",
    "    print(op_gap_dnl[k], re_dnl[k])"
   ]
  },
  {
   "cell_type": "markdown",
   "metadata": {},
   "source": [
    "# Optimality Gap"
   ]
  },
  {
   "cell_type": "code",
   "execution_count": 247,
   "metadata": {
    "executionInfo": {
     "elapsed": 43,
     "status": "aborted",
     "timestamp": 1654764861784,
     "user": {
      "displayName": "Abdulmomen Gholka",
      "userId": "04436549372656956778"
     },
     "user_tz": -180
    },
    "id": "Tacuz2qbTuPJ"
   },
   "outputs": [
    {
     "data": {
      "image/png": "[encoded data removed]",
      "text/plain": [
       "<Figure size 640x480 with 1 Axes>"
      ]
     },
     "metadata": {},
     "output_type": "display_data"
    }
   ],
   "source": [
    "import matplotlib.pyplot as plt\n",
    "plt.semilogy(op_gap_dnl)\n",
    "#plt.ylim([10**(-5),0.5])\n",
    "np.save('op_gap_dnl_q', op_gap_dnl)"
   ]
  },
  {
   "cell_type": "code",
   "execution_count": 17,
   "metadata": {},
   "outputs": [
    {
     "data": {
      "text/plain": [
       "-0.12634904125482843"
      ]
     },
     "execution_count": 17,
     "metadata": {},
     "output_type": "execute_result"
    }
   ],
   "source": [
    "theta_opt[10]"
   ]
  },
  {
   "cell_type": "code",
   "execution_count": 18,
   "metadata": {},
   "outputs": [
    {
     "data": {
      "text/plain": [
       "-0.120634575157594"
      ]
     },
     "execution_count": 18,
     "metadata": {},
     "output_type": "execute_result"
    }
   ],
   "source": [
    "theta_avg[10]"
   ]
  }
 ],
 "metadata": {
  "accelerator": "GPU",
  "colab": {
   "collapsed_sections": [],
   "name": "DNL.ipynb",
   "provenance": []
  },
  "kernelspec": {
   "display_name": "Python 3 (ipykernel)",
   "language": "python",
   "name": "python3"
  },
  "language_info": {
   "codemirror_mode": {
    "name": "ipython",
    "version": 3
   },
   "file_extension": ".py",
   "mimetype": "text/x-python",
   "name": "python",
   "nbconvert_exporter": "python",
   "pygments_lexer": "ipython3",
   "version": "3.9.20"
  }
 },
 "nbformat": 4,
 "nbformat_minor": 4
}
