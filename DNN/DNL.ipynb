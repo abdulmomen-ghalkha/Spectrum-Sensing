{
 "cells": [
  {
   "cell_type": "code",
   "execution_count": 1,
   "metadata": {
    "_cell_guid": "b1076dfc-b9ad-4769-8c92-a6c4dae69d19",
    "_uuid": "8f2839f25d086af736a60e9eeb907d3b93b6e0e5",
    "executionInfo": {
     "elapsed": 245,
     "status": "ok",
     "timestamp": 1654764826706,
     "user": {
      "displayName": "Abdulmomen Gholka",
      "userId": "04436549372656956778"
     },
     "user_tz": -180
    },
    "id": "VYzJgl_mTuOo"
   },
   "outputs": [],
   "source": [
    "import numpy as np # linear algebra\n",
    "import pandas as pd # data processing, CSV file I/O (e.g. pd.read_csv)\n",
    "import tensorflow as tf\n",
    "import os\n",
    "\n",
    "import scipy\n",
    "import networkx as nx\n",
    "\n",
    "from sklearn.linear_model import LogisticRegression\n",
    "from sklearn.metrics import log_loss\n",
    "from numpy import linalg as LA"
   ]
  },
  {
   "cell_type": "code",
   "execution_count": 2,
   "metadata": {},
   "outputs": [],
   "source": [
    "seed = 42\n",
    "no_users = 10\n",
    "lambda_logistic = 1e-3"
   ]
  },
  {
   "cell_type": "code",
   "execution_count": 3,
   "metadata": {},
   "outputs": [],
   "source": [
    "def random_split(X, y, n, seed):\n",
    "    \"\"\"Equally split data between n agents\"\"\"\n",
    "    rng = np.random.default_rng(seed)\n",
    "    perm = rng.permutation(y.size)\n",
    "    X_split = np.array_split(X[perm], n)  #np.stack to keep as a np array\n",
    "    y_split = np.array_split(y[perm], n)\n",
    "    return X_split, y_split"
   ]
  },
  {
   "cell_type": "code",
   "execution_count": 4,
   "metadata": {},
   "outputs": [],
   "source": [
    "def loss(w, A, b, l2):\n",
    "    z = b * np.dot(A, w)\n",
    "    tmp = np.minimum(z, 0)\n",
    "    loss = np.log((np.exp(tmp) + np.exp(tmp - z)) / np.exp(tmp))\n",
    "    loss_sum = np.sum(loss) / len(b)\n",
    "    reg = (np.linalg.norm(w) ** 2) * l2 / 2\n",
    "    return loss_sum + reg"
   ]
  },
  {
   "cell_type": "code",
   "execution_count": 5,
   "metadata": {},
   "outputs": [],
   "source": [
    "def gradient(w, A, b, l2):\n",
    "    m = A.shape[0]\n",
    "    bAw = b * (A @ w)\n",
    "    temp = 1. / (1. + np.exp(bAw))\n",
    "    res = -(A.T @ (b * temp))/m + l2 * w\n",
    "    return res"
   ]
  },
  {
   "cell_type": "code",
   "execution_count": 6,
   "metadata": {},
   "outputs": [],
   "source": [
    "def hessian(w, A, b, l2):\n",
    "    bAw = b * (A @ w)\n",
    "    activation = scipy.special.expit(bAw)\n",
    "    weights = activation * (1-activation)\n",
    "    A_weighted = np.multiply(A.T, weights)\n",
    "    return A_weighted@A/A.shape[0] + l2*np.eye(A.shape[1])"
   ]
  },
  {
   "cell_type": "code",
   "execution_count": 7,
   "metadata": {},
   "outputs": [],
   "source": [
    "def degrees(A):\n",
    "    \"\"\"Return the degrees of each node of a graph from its adjacency matrix\"\"\"\n",
    "    return np.sum(A, axis=0).reshape(A.shape[0], 1)"
   ]
  },
  {
   "cell_type": "code",
   "execution_count": 8,
   "metadata": {},
   "outputs": [],
   "source": [
    "def generate_graph(n, seed):\n",
    "    \"\"\"Generate a random connected graph\"\"\"\n",
    "    while True:\n",
    "        g = nx.generators.random_graphs.binomial_graph(n, 0.4, seed = seed) \n",
    "        if nx.algorithms.components.is_connected(g):\n",
    "            return g"
   ]
  },
  {
   "cell_type": "code",
   "execution_count": 9,
   "metadata": {
    "colab": {
     "base_uri": "https://localhost:8080/",
     "height": 355
    },
    "executionInfo": {
     "elapsed": 469,
     "status": "ok",
     "timestamp": 1654764827400,
     "user": {
      "displayName": "Abdulmomen Gholka",
      "userId": "04436549372656956778"
     },
     "user_tz": -180
    },
    "id": "WKBlmnurkFhZ",
    "outputId": "0d99ecbb-c147-46e7-e79d-a969f15e9e87"
   },
   "outputs": [
    {
     "name": "stdout",
     "output_type": "stream",
     "text": [
      "20\n",
      "10\n"
     ]
    }
   ],
   "source": [
    "G = generate_graph(no_users, seed)\n",
    "adjacency_matrix = nx.linalg.graphmatrix.adjacency_matrix(G)\n",
    "print(G.number_of_edges())\n",
    "print(G.number_of_nodes())\n",
    "#nx.draw(G, with_labels=True, font_weight='bold')"
   ]
  },
  {
   "cell_type": "code",
   "execution_count": 10,
   "metadata": {},
   "outputs": [],
   "source": [
    "theta_opt = np.load('x_opt.npy')"
   ]
  },
  {
   "cell_type": "code",
   "execution_count": 11,
   "metadata": {
    "executionInfo": {
     "elapsed": 8,
     "status": "ok",
     "timestamp": 1654764829365,
     "user": {
      "displayName": "Abdulmomen Gholka",
      "userId": "04436549372656956778"
     },
     "user_tz": -180
    },
    "id": "0poGZyj0TuOx"
   },
   "outputs": [],
   "source": [
    "X = np.load('X.npy')\n",
    "y = np.load('y.npy').ravel()\n",
    "\n",
    "num_feature = X.shape[1] #+ 1 #+1 for bias"
   ]
  },
  {
   "cell_type": "code",
   "execution_count": 12,
   "metadata": {},
   "outputs": [
    {
     "data": {
      "text/plain": [
       "3"
      ]
     },
     "execution_count": 12,
     "metadata": {},
     "output_type": "execute_result"
    }
   ],
   "source": [
    "num_feature"
   ]
  },
  {
   "cell_type": "code",
   "execution_count": 13,
   "metadata": {},
   "outputs": [],
   "source": [
    "X, y = random_split(X, y, no_users, seed)\n",
    "\n",
    "theta = [np.zeros(num_feature) for _ in range(no_users)] # initial model\n",
    "\n",
    "d_new = [np.zeros(num_feature) for _ in range(no_users)] # direction\n",
    "d_old = [np.zeros(num_feature) for _ in range(no_users)] # old direction\n",
    "\n",
    "lamd = [np.zeros(num_feature) for _ in range(no_users)] # dual variables\n",
    "\n",
    "grad = [np.zeros(num_feature) for _ in range(no_users)] # old grads\n",
    "Hess = [np.zeros([num_feature, num_feature]) for _ in range(no_users)] # old hessians"
   ]
  },
  {
   "cell_type": "code",
   "execution_count": 14,
   "metadata": {
    "colab": {
     "base_uri": "https://localhost:8080/"
    },
    "executionInfo": {
     "elapsed": 6569,
     "status": "ok",
     "timestamp": 1654764835930,
     "user": {
      "displayName": "Abdulmomen Gholka",
      "userId": "04436549372656956778"
     },
     "user_tz": -180
    },
    "id": "oTUDJDeGo3Xe",
    "outputId": "3bc27f35-6502-4021-f9a3-23906d72e075"
   },
   "outputs": [],
   "source": [
    "# Optimal objective function, i.e., f(x*)\n",
    "obj0 = 0.02540046699809508 # a9a dataset"
   ]
  },
  {
   "cell_type": "code",
   "execution_count": 15,
   "metadata": {},
   "outputs": [],
   "source": [
    "n_iters = 200\n",
    "#rho =[0.05*np.log(1+t) for t in range(n_iters)]\n",
    "rho =[0.5 for t in range(n_iters)]\n",
    "alpha = 0.5\n",
    "# Best: rho=0.004, alpha = 0.035"
   ]
  },
  {
   "cell_type": "code",
   "execution_count": 16,
   "metadata": {
    "colab": {
     "base_uri": "https://localhost:8080/",
     "height": 1000
    },
    "executionInfo": {
     "elapsed": 25877,
     "status": "error",
     "timestamp": 1654764861790,
     "user": {
      "displayName": "Abdulmomen Gholka",
      "userId": "04436549372656956778"
     },
     "user_tz": -180
    },
    "id": "0ga7NIySF_6y",
    "outputId": "5bc73e34-e286-48e5-d981-e1d926003c65"
   },
   "outputs": [
    {
     "name": "stdout",
     "output_type": "stream",
     "text": [
      "0.5606535446192021 0.9679405086810412\n",
      "0.427446612063324 0.919161754415479\n",
      "0.30748051809763377 0.860396498568803\n",
      "0.2154913326212941 0.7971719281968311\n",
      "0.15005822231094096 0.733459524902732\n",
      "0.10475361231389572 0.6715522730794906\n",
      "0.07362589442088564 0.6128093986504822\n",
      "0.05222431287576104 0.558055094000416\n",
      "0.037416970004344366 0.5076939038331587\n",
      "0.027073203894510182 0.4618396987425126\n",
      "0.019769754841372163 0.4204410853985245\n",
      "0.01455864928829768 0.38335633358702437\n",
      "0.010804411932748694 0.3503910200380725\n",
      "0.008076478363840626 0.32131704202626227\n",
      "0.006079582740157543 0.2958836803651172\n",
      "0.004608827705492358 0.2738260095607307\n",
      "0.003520390613372313 0.2548711763763785\n",
      "0.0027121585404662855 0.23874196131038605\n",
      "0.00211080122477203 0.22515861972427803\n",
      "0.0016630887776852774 0.21384097112366335\n",
      "0.0013300174632715801 0.20451208149048752\n",
      "0.001082785826083097 0.19690350268708165\n",
      "0.0008999905749461842 0.19076100750816832\n",
      "0.0007656383116426344 0.18584961151072596\n",
      "0.0006677180728156644 0.18195714651042277\n",
      "0.0005971695618468033 0.17889619983005578\n",
      "0.0005471340090623944 0.17650456095188258\n",
      "0.0005124068105118174 0.17464444329464593\n",
      "0.0004890338671550247 0.17320078928643115\n",
      "0.000474010768132211 0.17207897920952722\n",
      "0.00046505659424490517 0.17120224772494264\n",
      "0.00046044277638933664 0.17050906061906354\n",
      "0.00045886311024920245 0.1699506306579547\n",
      "0.0004593347590879128 0.16948867691787464\n",
      "0.0004611226570467204 0.16909347208775044\n",
      "0.0004636816090575653 0.16874218189764975\n",
      "0.000466611801473598 0.16841747771112997\n",
      "0.0004696245144408147 0.16810639259587165\n",
      "0.00047251564056206494 0.16779938814119058\n",
      "0.00047514521857400585 0.16748960025498838\n",
      "0.000477421629037255 0.16717223476289195\n",
      "0.00047928941263385844 0.16684408667508807\n",
      "0.00048071989986609234 0.16650316014951902\n",
      "0.0004817040155345939 0.1661483694566555\n",
      "0.00048224676190555815 0.1657793045747055\n",
      "0.00048236299912958816 0.16539604819468626\n",
      "0.00048207423231640817 0.1649990336397208\n",
      "0.00048140618318679926 0.16458893536770228\n",
      "0.0004803869739679646 0.16416658536263398\n",
      "0.00047904578732905004 0.16373290996555542\n",
      "0.00047741189364416264 0.1632888826997405\n",
      "0.00047551395914282105 0.16283548950294446\n",
      "0.0004733795671994605 0.16237370352558855\n",
      "0.0004710349005682575 0.16190446728465238\n",
      "0.0004685045448192156 0.16142868046975023\n",
      "0.0004658113827303856 0.16094719208433292\n",
      "0.00046297655637779836 0.1604607958904936\n",
      "0.0004600194787674691 0.15997022833790597\n",
      "0.0004569578807046455 0.1594761683221172\n",
      "0.00045380788167483435 0.15897923825309995\n",
      "0.0004505840760917687 0.1584800060307261\n",
      "0.0004472996284431152 0.15797898762177087\n",
      "0.0004439663726382645 0.15747665001241332\n",
      "0.00044059491222768823 0.15697341437084406\n",
      "0.00043719471915442537 0.1564696592985963\n",
      "0.0004337742293928394 0.15596572408054993\n",
      "0.00043034093432372036 0.15546191186661448\n",
      "0.00042690146706874516 0.15495849273631204\n",
      "0.00042346168331093906 0.15445570661273994\n",
      "0.000420026736380235 0.15395376600522562\n",
      "0.0004166011465847226 0.15345285857025226\n",
      "0.0004131888649156791 0.1529531494878135\n",
      "0.00040979333135112567 0.15245478365545212\n",
      "0.00040641752803714445 0.15195788770539356\n",
      "0.0004030640276530481 0.15146257185208098\n",
      "0.00039973503727657594 0.15096893157859634\n",
      "0.0003964324380681221 0.15047704917126442\n",
      "0.0003931578210912383 0.1499869951123099\n",
      "0.00038991251958151243 0.14949882934074865\n",
      "0.00038669763796655293 0.14901260239174666\n",
      "0.0003835140779261982 0.1485283564244447\n",
      "0.00038036256176464736 0.14804612614781368\n",
      "0.0003772436533471153 0.14756593965353043\n",
      "0.0003741577768336876 0.14708781916425695\n",
      "0.00037110523342378035 0.14661178170509542\n",
      "0.00036808621630691693 0.14613783970542416\n",
      "0.0003651008239988762 0.14566600153777\n",
      "0.0003621490722266023 0.14519627199986074\n",
      "0.00035923090451092654 0.1447286527454811\n",
      "0.00035634620158212296 0.14426314266927706\n",
      "0.0003534947897504241 0.143799738250169\n",
      "0.0003506764483414866 0.14333843385760267\n",
      "0.0003478909162958274 0.14287922202445374\n",
      "0.00034513789802139566 0.14242209369003847\n",
      "0.00034241706857888674 0.14196703841634042\n",
      "0.0003397280782720842 0.14151404458026828\n",
      "0.0003370705567073626 0.14106309954447155\n",
      "0.00033444411638032176 0.1406141898089935\n",
      "0.00033184835584111963 0.14016730114580486\n",
      "0.00032928286248486843 0.13972241871805036\n",
      "0.0003267472150083259 0.13927952718565118\n",
      "0.00032424098556969524 0.13883861079873389\n",
      "0.00032176374168456714 0.13839965348019892\n",
      "0.0003193150478872815 0.13796263889861296\n",
      "0.00031689446718390427 0.13752755053247367\n",
      "0.000314501562320213 0.13709437172679195\n",
      "0.0003121358968855327 0.13666308574283387\n",
      "0.0003097970362708688 0.13623367580177304\n",
      "0.0003074845484979591 0.13580612512292448\n",
      "0.00030519800493382723 0.13538041695716074\n",
      "0.00030293698090404914 0.13495653461604\n",
      "0.0003007010562161884 0.13453446149712878\n",
      "0.00029848981560396184 0.13411418110593779\n",
      "0.00029630284910113144 0.13369567707485502\n",
      "0.0002941397523534284 0.1332789331794105\n",
      "0.00029200012687582294 0.13286393335217456\n",
      "0.0002898835802614616 0.13245066169455902\n",
      "0.00028778972634812064 0.13203910248675801\n",
      "0.00028571818534724874 0.13162924019604147\n",
      "0.00028366858394017827 0.13122105948359297\n",
      "0.00028164055534542903 0.13081454521005695\n",
      "0.0002796337393607233 0.13040968243994858\n",
      "0.000277647782382949 0.13000645644505754\n",
      "0.00027568233740878426 0.1296048527069666\n",
      "0.0002737370640185123 0.12920485691878963\n",
      "0.00027181162834524764 0.12880645498622256\n",
      "0.00026990570303156783 0.1284096330279933\n",
      "0.0002680189671751994 0.1280143773757825\n",
      "0.0002661511062653672 0.12762067457368362\n",
      "0.00026430181211114373 0.1272285113772589\n",
      "0.0002624707827630565 0.12683787475224545\n",
      "0.000260657722428885 0.12644875187295734\n",
      "0.00025886234138478015 0.12606113012042455\n",
      "0.0002570843558823456 0.12567499708030586\n",
      "0.00025532348805258967 0.12529034054060886\n",
      "0.0002535794658072403 0.12490714848924345\n",
      "0.0002518520227381138 0.12452540911143907\n",
      "0.00025014089801498815 0.12414511078704336\n",
      "0.00024844583628242864 0.12376624208772512\n",
      "0.00024676658755592995 0.12338879177410053\n",
      "0.0002451029071177495 0.12301274879279414\n",
      "0.0002434545554127407 0.1226381022734538\n",
      "0.00024182129794440496 0.12226484152572796\n",
      "0.00024020290517137027 0.12189295603621769\n",
      "0.00023859915240460536 0.1215224354654141\n",
      "0.0002370098197053798 0.12115326964462693\n",
      "0.00023543469178426493 0.12078544857291396\n",
      "0.00023387355790116526 0.12041896241401757\n",
      "0.00023232621176663693 0.12005380149331325\n",
      "0.00023079245144443442 0.1196899562947749\n",
      "0.00022927207925546936 0.11932741745796333\n",
      "0.00022776490168318134 0.11896617577503811\n",
      "0.00022627072928042488 0.11860622218780137\n",
      "0.0002247893765778934 0.11824754778476979\n",
      "0.000223320661994042 0.11789014379828294\n",
      "0.00022186440774670663 0.11753400160164663\n",
      "0.00022042043976623973 0.11717911270631491\n",
      "0.0002189885876103248 0.11682546875911091\n",
      "0.00021756868438041824 0.11647306153948797\n",
      "0.00021616056663977673 0.11612188295683318\n",
      "0.00021476407433317427 0.11577192504781195\n",
      "0.0002133790507082324 0.11542317997375684\n",
      "0.00021200534223835346 0.11507564001809936\n",
      "0.0002106427985472427 0.11472929758384477\n",
      "0.0002092912723351166 0.11438414519109208\n",
      "0.0002079506193063789 0.11404017547459665\n",
      "0.00020662069809892006 0.11369738118137805\n",
      "0.0002053013702149782 0.11335575516837172\n",
      "0.00020399249995345717 0.11301529040012333\n",
      "0.00020269395434384038 0.11267597994652756\n",
      "0.00020140560308149966 0.11233781698061052\n",
      "0.00020012731846452692 0.11200079477635422\n",
      "0.0001988589753319711 0.11166490670656384\n",
      "0.0001976004510034872 0.11133014624077729\n",
      "0.00019635162522041796 0.11099650694321694\n",
      "0.00019511238008815615 0.1106639824707811\n",
      "0.0001938826000199463 0.11033256657107808\n",
      "0.00019266217168191838 0.1100022530804984\n",
      "0.00019145098393946736 0.1096730359223291\n",
      "0.0001902489278048647 0.10934490910490434\n",
      "0.00018905589638614287 0.10901786671979673\n",
      "0.0001878717848371493 0.10869190294004559\n",
      "0.0001866964903088665 0.10836701201842225\n",
      "0.00018552991190180432 0.1080431882857338\n",
      "0.00018437195061960995 0.10772042614915998\n",
      "0.00018322250932378825 0.10739872009062873\n",
      "0.00018208149268946275 0.10707806466522478\n",
      "0.00018094880716229902 0.10675845449963343\n",
      "0.00017982436091638562 0.10643988429061725\n",
      "0.00017870806381321477 0.10612234880352679\n",
      "0.00017759982736159988 0.10580584287084349\n",
      "0.00017649956467863728 0.10549036139075449\n",
      "0.0001754071904516083 0.10517589932575827\n",
      "0.00017432262090077283 0.10486245170130247\n",
      "0.00017324577374315184 0.10455001360445021\n",
      "0.0001721765681571598 0.10423858018257695\n",
      "0.00017111492474813916 0.10392814664209697\n",
      "0.0001700607655147103 0.10361870824721603\n",
      "0.00016901401381600248 0.1033102603187147\n",
      "0.000167974594339676 0.10300279823275743\n"
     ]
    }
   ],
   "source": [
    "losses_dnl = []\n",
    "re_dnl = np.zeros(shape=[n_iters])\n",
    "op_gap_dnl = np.zeros(shape=[n_iters])\n",
    "theta0 = np.zeros(num_feature)\n",
    "\n",
    "for k in range(n_iters):\n",
    "    for i in range(no_users):        \n",
    "        grad[i] = gradient(theta[i], X[i], y[i], lambda_logistic)\n",
    "        Hess[i] = hessian(theta[i], X[i], y[i], lambda_logistic)\n",
    "    \n",
    "    for i in range(no_users):\n",
    "        w_neighbors_sum = np.zeros(num_feature)\n",
    "        for j in G.neighbors(i):\n",
    "            w_neighbors_sum = np.add(w_neighbors_sum, d_old[j])\n",
    "        degree = G.degree(i)\n",
    "        d_new[i] = np.matmul(np.linalg.inv(Hess[i] +  (2 * degree * rho[k] + alpha) * np.eye(num_feature)),\\\n",
    "                                        grad[i] - lamd[i] + rho[k] * (degree * d_old[i] + w_neighbors_sum))\n",
    "            \n",
    "\n",
    "    #print(np.linalg.norm(d_new[10]))\n",
    "    \n",
    "    # Dual Variable Update\n",
    "    for i in range(no_users):\n",
    "        w_neighbors_sum = np.zeros(num_feature)\n",
    "        for j in G.neighbors(i):\n",
    "            w_neighbors_sum = np.add(w_neighbors_sum, d_new[j])\n",
    "        degree = G.degree(i)\n",
    "        lamd[i] = lamd[i] + 1.0 * (degree * d_new[i] - w_neighbors_sum)\n",
    "\n",
    "    #print(np.linalg.norm(lamd[10]))\n",
    "        \n",
    "    for i in range(no_users):\n",
    "        theta[i] = theta[i] - d_new[i]\n",
    "        d_old[i] = d_new[i]\n",
    "        \n",
    "    # Performance Check\n",
    "    theta_avg = 1/no_users*sum(theta)\n",
    "        \n",
    "    for i in range(no_users):\n",
    "        loss_dnl = np.mean([loss(theta_avg, X[i], y[i], lambda_logistic) for i in range(no_users)])\n",
    "        losses_dnl.append(loss_dnl)\n",
    "    \n",
    "    op_gap_dnl[k] = np.abs(losses_dnl[-1] - obj0)\n",
    "    \n",
    "    re_dnl[k] = np.linalg.norm(theta_avg-theta_opt)/np.linalg.norm(theta0-theta_opt)\n",
    "    \n",
    "    print(op_gap_dnl[k], re_dnl[k])"
   ]
  },
  {
   "cell_type": "markdown",
   "metadata": {},
   "source": [
    "# Optimality Gap"
   ]
  },
  {
   "cell_type": "code",
   "execution_count": 17,
   "metadata": {
    "executionInfo": {
     "elapsed": 43,
     "status": "aborted",
     "timestamp": 1654764861784,
     "user": {
      "displayName": "Abdulmomen Gholka",
      "userId": "04436549372656956778"
     },
     "user_tz": -180
    },
    "id": "Tacuz2qbTuPJ"
   },
   "outputs": [
    {
     "data": {
      "image/png": "[encoded data removed]",
      "text/plain": [
       "<Figure size 640x480 with 1 Axes>"
      ]
     },
     "metadata": {},
     "output_type": "display_data"
    }
   ],
   "source": [
    "import matplotlib.pyplot as plt\n",
    "plt.semilogy(op_gap_dnl)\n",
    "#plt.ylim([10**(-5),0.5])\n",
    "np.save('op_gap_dnl', op_gap_dnl)"
   ]
  },
  {
   "cell_type": "code",
   "execution_count": 18,
   "metadata": {},
   "outputs": [
    {
     "ename": "IndexError",
     "evalue": "index 10 is out of bounds for axis 0 with size 3",
     "output_type": "error",
     "traceback": [
      "\u001b[1;31m---------------------------------------------------------------------------\u001b[0m",
      "\u001b[1;31mIndexError\u001b[0m                                Traceback (most recent call last)",
      "Cell \u001b[1;32mIn[18], line 1\u001b[0m\n\u001b[1;32m----> 1\u001b[0m \u001b[43mtheta_opt\u001b[49m\u001b[43m[\u001b[49m\u001b[38;5;241;43m10\u001b[39;49m\u001b[43m]\u001b[49m\n",
      "\u001b[1;31mIndexError\u001b[0m: index 10 is out of bounds for axis 0 with size 3"
     ]
    }
   ],
   "source": [
    "theta_opt[10]"
   ]
  },
  {
   "cell_type": "code",
   "execution_count": null,
   "metadata": {},
   "outputs": [],
   "source": [
    "theta_avg[10]"
   ]
  }
 ],
 "metadata": {
  "accelerator": "GPU",
  "colab": {
   "collapsed_sections": [],
   "name": "DNL.ipynb",
   "provenance": []
  },
  "kernelspec": {
   "display_name": "Python 3 (ipykernel)",
   "language": "python",
   "name": "python3"
  },
  "language_info": {
   "codemirror_mode": {
    "name": "ipython",
    "version": 3
   },
   "file_extension": ".py",
   "mimetype": "text/x-python",
   "name": "python",
   "nbconvert_exporter": "python",
   "pygments_lexer": "ipython3",
   "version": "3.9.20"
  }
 },
 "nbformat": 4,
 "nbformat_minor": 4
}
